{
 "cells": [
  {
   "cell_type": "code",
   "execution_count": 1,
   "metadata": {},
   "outputs": [],
   "source": [
    "import os\n",
    "import time\n",
    "import shutil\n",
    "from fxqu4nt.utils.common import get_tmp_dir\n",
    "from fxqu4nt.utils.csv_tick_file import *\n",
    "\n",
    "CURRENT_DIR = os.getcwd()\n",
    "DATA_DIR = os.path.join(os.path.dirname(CURRENT_DIR), \"data\")\n",
    "csv_file = os.path.join(DATA_DIR, \"EURUSD/201001.csv\")\n",
    "tmp_dir = os.path.join(DATA_DIR, \"tmp\")"
   ]
  },
  {
   "cell_type": "markdown",
   "metadata": {},
   "source": [
    "## Test splitting on single process"
   ]
  },
  {
   "cell_type": "code",
   "execution_count": 2,
   "metadata": {},
   "outputs": [
    {
     "name": "stderr",
     "output_type": "stream",
     "text": [
      "2020-05-16T20:55:30 - CsvTickFile - INFO - wid0/split(): Splitting tick data for 201001\n",
      "2020-05-16T20:55:42 - CsvTickFile - INFO - wid0/split(): Splitting process token 11.9139 seconds\n"
     ]
    },
    {
     "name": "stdout",
     "output_type": "stream",
     "text": [
      "Single process take time:  11.9147\n"
     ]
    }
   ],
   "source": [
    "if not os.path.exists(tmp_dir):\n",
    "    os.makedirs(tmp_dir)\n",
    "start = time.time()\n",
    "split_by_month(csv_file, tmp_dir, verbose=True)\n",
    "end = time.time()\n",
    "print(f\"Single process take time: {end - start: .4f}\")\n",
    "shutil.rmtree(tmp_dir)"
   ]
  },
  {
   "cell_type": "markdown",
   "metadata": {},
   "source": [
    "## Test splitting on multiple processes"
   ]
  },
  {
   "cell_type": "code",
   "execution_count": 3,
   "metadata": {},
   "outputs": [
    {
     "name": "stdout",
     "output_type": "stream",
     "text": [
      "Parallel process take time:  1.9328\n"
     ]
    }
   ],
   "source": [
    "if not os.path.exists(tmp_dir):\n",
    "    os.makedirs(tmp_dir)\n",
    "start = time.time()\n",
    "parallel_split_by_month(csv_file, tmp_dir, nworkers=8)\n",
    "end = time.time()\n",
    "print(f\"Multiple processes take time: {end - start: .4f}\")\n",
    "shutil.rmtree(tmp_dir)"
   ]
  },
  {
   "cell_type": "markdown",
   "metadata": {},
   "source": [
    "## Test fixing date on single process"
   ]
  },
  {
   "cell_type": "code",
   "execution_count": 3,
   "metadata": {},
   "outputs": [
    {
     "name": "stderr",
     "output_type": "stream",
     "text": [
      "2020-05-17T18:19:06 - CsvTickFile - INFO - wid0/split(): Splitting process token 15.9139 seconds, number of lines:597068\n"
     ]
    },
    {
     "name": "stdout",
     "output_type": "stream",
     "text": [
      "Single process take time:  15.9263\n"
     ]
    }
   ],
   "source": [
    "if not os.path.exists(tmp_dir):\n",
    "    os.makedirs(tmp_dir)\n",
    "out_file = os.path.join(tmp_dir, \"201001.csv\")\n",
    "start = time.time()\n",
    "fix_date(csv_file, out_file, verbose=True)\n",
    "end = time.time()\n",
    "print(f\"Single process take time: {end - start: .4f}\")\n",
    "shutil.rmtree(tmp_dir)"
   ]
  },
  {
   "cell_type": "markdown",
   "metadata": {},
   "source": [
    "## Test fixing date on multiple processes"
   ]
  },
  {
   "cell_type": "code",
   "execution_count": 4,
   "metadata": {},
   "outputs": [
    {
     "name": "stderr",
     "output_type": "stream",
     "text": [
      "2020-05-17T18:19:22 - CsvTickFile - INFO - wid2/split(): Splitting process token 2.3510 seconds, number of lines:74632\n",
      "2020-05-17T18:19:22 - CsvTickFile - INFO - wid6/split(): Splitting process token 2.3539 seconds, number of lines:74632\n",
      "2020-05-17T18:19:22 - CsvTickFile - INFO - wid5/split(): Splitting process token 2.3628 seconds, number of lines:74632\n",
      "2020-05-17T18:19:22 - CsvTickFile - INFO - wid7/split(): Splitting process token 2.3763 seconds, number of lines:74637\n",
      "2020-05-17T18:19:22 - CsvTickFile - INFO - wid3/split(): Splitting process token 2.3850 seconds, number of lines:74632\n",
      "2020-05-17T18:19:22 - CsvTickFile - INFO - wid0/split(): Splitting process token 2.4001 seconds, number of lines:74632\n",
      "2020-05-17T18:19:22 - CsvTickFile - INFO - wid4/split(): Splitting process token 2.4026 seconds, number of lines:74633\n",
      "2020-05-17T18:19:22 - CsvTickFile - INFO - wid1/split(): Splitting process token 2.4202 seconds, number of lines:74631\n"
     ]
    },
    {
     "name": "stdout",
     "output_type": "stream",
     "text": [
      "Multiple processes take time:  2.5465\n"
     ]
    }
   ],
   "source": [
    "if not os.path.exists(tmp_dir):\n",
    "    os.makedirs(tmp_dir)\n",
    "out_file = os.path.join(tmp_dir, \"201001.csv\")\n",
    "start = time.time()\n",
    "parallel_fix_date(csv_file, out_file, nworkers=8)\n",
    "end = time.time()\n",
    "print(f\"Multiple processes take time: {end - start: .4f}\")\n",
    "shutil.rmtree(tmp_dir)"
   ]
  },
  {
   "cell_type": "code",
   "execution_count": null,
   "metadata": {},
   "outputs": [],
   "source": []
  }
 ],
 "metadata": {
  "kernelspec": {
   "display_name": "Python 3",
   "language": "python",
   "name": "python3"
  },
  "language_info": {
   "codemirror_mode": {
    "name": "ipython",
    "version": 3
   },
   "file_extension": ".py",
   "mimetype": "text/x-python",
   "name": "python",
   "nbconvert_exporter": "python",
   "pygments_lexer": "ipython3",
   "version": "3.7.6"
  }
 },
 "nbformat": 4,
 "nbformat_minor": 4
}
