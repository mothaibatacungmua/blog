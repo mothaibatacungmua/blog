{
 "cells": [
  {
   "cell_type": "code",
   "execution_count": 1,
   "metadata": {},
   "outputs": [],
   "source": [
    "import os\n",
    "import time\n",
    "import shutil\n",
    "from fxqu4nt.utils.common import get_tmp_dir\n",
    "from fxqu4nt.utils.csv_tick_file import *\n",
    "\n",
    "CURRENT_DIR = os.getcwd()\n",
    "DATA_DIR = os.path.join(os.path.dirname(CURRENT_DIR), \"data\")\n",
    "csv_file = os.path.join(DATA_DIR, \"EURUSD/201001.csv\")\n",
    "tmp_dir = os.path.join(DATA_DIR, \"tmp\")"
   ]
  },
  {
   "cell_type": "markdown",
   "metadata": {},
   "source": [
    "## Test single process"
   ]
  },
  {
   "cell_type": "code",
   "execution_count": 12,
   "metadata": {},
   "outputs": [
    {
     "name": "stderr",
     "output_type": "stream",
     "text": [
      "2020-05-16T20:25:13 - CsvTickFile - INFO - wid0/split(): Splitting tick data for 201001\n",
      "2020-05-16T20:25:24 - CsvTickFile - INFO - wid0/split(): Splitting process token 11.1823 seconds\n"
     ]
    }
   ],
   "source": [
    "if not os.path.exists(tmp_dir):\n",
    "    os.makedirs(tmp_dir)\n",
    "start = time.time()\n",
    "split_by_month(csv_file, tmp_dir, verbose=True)\n",
    "end = time.time()\n",
    "print(f\"Single process take time: {end - start: .4f}\")\n",
    "shutil.rmtree(tmp_dir)"
   ]
  },
  {
   "cell_type": "markdown",
   "metadata": {},
   "source": [
    "## Test parallel process"
   ]
  },
  {
   "cell_type": "code",
   "execution_count": 2,
   "metadata": {},
   "outputs": [
    {
     "name": "stderr",
     "output_type": "stream",
     "text": [
      "2020-05-16T20:49:34 - CsvTickFile - INFO - wid0/split(): Splitting tick data for 201001\n",
      "2020-05-16T20:49:36 - CsvTickFile - INFO - wid0/split(): Splitting process token 1.5171 seconds\n",
      "2020-05-16T20:49:36 - CsvTickFile - INFO - wid1/split(): Splitting tick data for 201001\n",
      "2020-05-16T20:49:37 - CsvTickFile - INFO - wid1/split(): Splitting process token 1.4262 seconds\n",
      "2020-05-16T20:49:37 - CsvTickFile - INFO - wid2/split(): Splitting tick data for 201001\n",
      "2020-05-16T20:49:39 - CsvTickFile - INFO - wid2/split(): Splitting process token 1.5133 seconds\n",
      "2020-05-16T20:49:39 - CsvTickFile - INFO - wid3/split(): Splitting tick data for 201001\n",
      "2020-05-16T20:49:40 - CsvTickFile - INFO - wid3/split(): Splitting process token 1.4526 seconds\n",
      "2020-05-16T20:49:40 - CsvTickFile - INFO - wid4/split(): Splitting tick data for 201001\n",
      "2020-05-16T20:49:41 - CsvTickFile - INFO - wid4/split(): Splitting process token 1.4243 seconds\n",
      "2020-05-16T20:49:41 - CsvTickFile - INFO - wid5/split(): Splitting tick data for 201001\n",
      "2020-05-16T20:49:43 - CsvTickFile - INFO - wid5/split(): Splitting process token 1.5151 seconds\n",
      "2020-05-16T20:49:43 - CsvTickFile - INFO - wid6/split(): Splitting tick data for 201001\n",
      "2020-05-16T20:49:44 - CsvTickFile - INFO - wid6/split(): Splitting process token 1.4187 seconds\n",
      "2020-05-16T20:49:44 - CsvTickFile - INFO - wid7/split(): Splitting tick data for 201001\n",
      "2020-05-16T20:49:46 - CsvTickFile - INFO - wid7/split(): Splitting process token 1.4300 seconds\n"
     ]
    },
    {
     "name": "stdout",
     "output_type": "stream",
     "text": [
      "Parallel process take time:  11.8241\n"
     ]
    }
   ],
   "source": [
    "if not os.path.exists(tmp_dir):\n",
    "    os.makedirs(tmp_dir)\n",
    "start = time.time()\n",
    "parallel_split_by_month(csv_file, tmp_dir, nworkers=8)\n",
    "end = time.time()\n",
    "print(f\"Parallel process take time: {end - start: .4f}\")\n",
    "shutil.rmtree(tmp_dir)"
   ]
  },
  {
   "cell_type": "code",
   "execution_count": null,
   "metadata": {},
   "outputs": [],
   "source": []
  }
 ],
 "metadata": {
  "kernelspec": {
   "display_name": "Python 3",
   "language": "python",
   "name": "python3"
  },
  "language_info": {
   "codemirror_mode": {
    "name": "ipython",
    "version": 3
   },
   "file_extension": ".py",
   "mimetype": "text/x-python",
   "name": "python",
   "nbconvert_exporter": "python",
   "pygments_lexer": "ipython3",
   "version": "3.7.6"
  }
 },
 "nbformat": 4,
 "nbformat_minor": 4
}
