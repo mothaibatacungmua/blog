{
 "cells": [
  {
   "cell_type": "code",
   "execution_count": 1,
   "metadata": {},
   "outputs": [
    {
     "name": "stderr",
     "output_type": "stream",
     "text": [
      "/Users/asm/blog/_research/fxqu4nt/fxqu4nt/settings.py:49: YAMLLoadWarning: calling yaml.load() without Loader=... is deprecated, as the default Loader is unsafe. Please read https://msg.pyyaml.org/load for full details.\n",
      "  gmcnf = yaml.load(fobj)\n",
      "2020-05-28T14:58:31 - QuotesDB - INFO - Connected to kdb+ server. IPC version: 3\n"
     ]
    },
    {
     "data": {
      "text/plain": [
       "True"
      ]
     },
     "execution_count": 1,
     "metadata": {},
     "output_type": "execute_result"
    }
   ],
   "source": [
    "import os\n",
    "from fxqu4nt.settings import get_mcnf, save_mcnf\n",
    "from fxqu4nt.market.kdb import get_db\n",
    "\n",
    "home_path = os.environ.get(\"HOME\")\n",
    "cnf = get_mcnf()\n",
    "if cnf is None:\n",
    "    cnf = {\n",
    "        \"host\": \"localhost\",\n",
    "        \"port\": 5042,\n",
    "        \"storage\": os.path.join(home_path, \"fx\")\n",
    "    }\n",
    "    save_mcnf(cnf)\n",
    "kdb = get_db()\n",
    "kdb.test()"
   ]
  },
  {
   "cell_type": "code",
   "execution_count": null,
   "metadata": {},
   "outputs": [],
   "source": []
  }
 ],
 "metadata": {
  "kernelspec": {
   "display_name": "Python 3",
   "language": "python",
   "name": "python3"
  },
  "language_info": {
   "codemirror_mode": {
    "name": "ipython",
    "version": 3
   },
   "file_extension": ".py",
   "mimetype": "text/x-python",
   "name": "python",
   "nbconvert_exporter": "python",
   "pygments_lexer": "ipython3",
   "version": "3.7.6"
  }
 },
 "nbformat": 4,
 "nbformat_minor": 4
}
